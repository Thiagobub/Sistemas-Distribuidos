{
 "cells": [
  {
   "cell_type": "markdown",
   "id": "f24c0789",
   "metadata": {},
   "source": [
    "## Testes iniciais"
   ]
  },
  {
   "cell_type": "code",
   "execution_count": 1,
   "id": "a8c2801f",
   "metadata": {},
   "outputs": [
    {
     "name": "stdout",
     "output_type": "stream",
     "text": [
      "<Response [200]>\n"
     ]
    }
   ],
   "source": [
    "import requests\n",
    "\n",
    "response = requests.get(\"http://api.open-notify.org/astros.json\")\n",
    "print(response)"
   ]
  },
  {
   "cell_type": "code",
   "execution_count": 2,
   "id": "1bfc5611",
   "metadata": {},
   "outputs": [
    {
     "ename": "TypeError",
     "evalue": "'bytes' object is not callable",
     "output_type": "error",
     "traceback": [
      "\u001b[1;31m---------------------------------------------------------------------------\u001b[0m",
      "\u001b[1;31mTypeError\u001b[0m                                 Traceback (most recent call last)",
      "\u001b[1;32m<ipython-input-2-246942d706c3>\u001b[0m in \u001b[0;36m<module>\u001b[1;34m\u001b[0m\n\u001b[1;32m----> 1\u001b[1;33m \u001b[0mresponse\u001b[0m\u001b[1;33m.\u001b[0m\u001b[0mcontent\u001b[0m\u001b[1;33m(\u001b[0m\u001b[1;33m)\u001b[0m \u001b[1;31m# Return the raw bytes of the data payload\u001b[0m\u001b[1;33m\u001b[0m\u001b[1;33m\u001b[0m\u001b[0m\n\u001b[0m\u001b[0;32m      2\u001b[0m \u001b[0mresponse\u001b[0m\u001b[1;33m.\u001b[0m\u001b[0mtext\u001b[0m\u001b[1;33m(\u001b[0m\u001b[1;33m)\u001b[0m \u001b[1;31m# Return a string representation of the data payload\u001b[0m\u001b[1;33m\u001b[0m\u001b[1;33m\u001b[0m\u001b[0m\n\u001b[0;32m      3\u001b[0m \u001b[0mresponse\u001b[0m\u001b[1;33m.\u001b[0m\u001b[0mjson\u001b[0m\u001b[1;33m(\u001b[0m\u001b[1;33m)\u001b[0m \u001b[1;31m# This method is convenient when the API returns JSON\u001b[0m\u001b[1;33m\u001b[0m\u001b[1;33m\u001b[0m\u001b[0m\n",
      "\u001b[1;31mTypeError\u001b[0m: 'bytes' object is not callable"
     ]
    }
   ],
   "source": [
    "response.content() # Return the raw bytes of the data payload\n",
    "response.text() # Return a string representation of the data payload\n",
    "response.json() # This method is convenient when the API returns JSON"
   ]
  },
  {
   "cell_type": "code",
   "execution_count": 3,
   "id": "5904c4cd",
   "metadata": {},
   "outputs": [
    {
     "name": "stdout",
     "output_type": "stream",
     "text": [
      "{'message': 'success', 'request': {'altitude': 100, 'datetime': 1637101625, 'latitude': 45.0, 'longitude': 180.0, 'passes': 5}, 'response': [{'duration': 592, 'risetime': 1637130887}, {'duration': 659, 'risetime': 1637136644}, {'duration': 632, 'risetime': 1637142490}, {'duration': 637, 'risetime': 1637148337}, {'duration': 656, 'risetime': 1637154153}]}\n"
     ]
    }
   ],
   "source": [
    "query = {'lat':'45', 'lon':'180'}\n",
    "response = requests.get('http://api.open-notify.org/iss-pass.json', params=query)\n",
    "print(response.json())"
   ]
  },
  {
   "cell_type": "code",
   "execution_count": null,
   "id": "a9cdf195",
   "metadata": {},
   "outputs": [],
   "source": [
    "# Create a new resource\n",
    "response = requests.post('https://httpbin.org/post', data = {'key':'value'})\n",
    "# Update an existing resource\n",
    "requests.put('https://httpbin.org/put', data = {'key':'value'})"
   ]
  },
  {
   "cell_type": "code",
   "execution_count": null,
   "id": "66d3b8b3",
   "metadata": {},
   "outputs": [],
   "source": []
  },
  {
   "cell_type": "code",
   "execution_count": null,
   "id": "48c19e2f",
   "metadata": {},
   "outputs": [],
   "source": []
  },
  {
   "cell_type": "code",
   "execution_count": null,
   "id": "38930002",
   "metadata": {},
   "outputs": [],
   "source": []
  },
  {
   "cell_type": "code",
   "execution_count": null,
   "id": "37f9120d",
   "metadata": {},
   "outputs": [],
   "source": []
  },
  {
   "cell_type": "markdown",
   "id": "151ed25a",
   "metadata": {},
   "source": [
    "# Teste do servidor"
   ]
  },
  {
   "cell_type": "markdown",
   "id": "d51f044c",
   "metadata": {},
   "source": [
    "## Cadastra enquete"
   ]
  },
  {
   "cell_type": "markdown",
   "id": "ed7c79b4",
   "metadata": {},
   "source": [
    "#### Thiago cria enquete"
   ]
  },
  {
   "cell_type": "code",
   "execution_count": 4,
   "id": "cb1e6928",
   "metadata": {},
   "outputs": [
    {
     "name": "stdout",
     "output_type": "stream",
     "text": [
      "<Response [200]>\n"
     ]
    }
   ],
   "source": [
    "import requests\n",
    "\n",
    "print(requests.post('http://127.0.0.1:5000/users', data={'user': 'Thiago',\n",
    "                                                         'enquete': 'Bonde de Floripa',\n",
    "                                                         'local': 'Florianopolis',\n",
    "                                                         'limite': '2021-11-20',\n",
    "                                                         'votos': \"['2021-11-19','2021-11-20','2021-11-21']\"}\n",
    "                   ))"
   ]
  },
  {
   "cell_type": "markdown",
   "id": "061f4127",
   "metadata": {},
   "source": [
    "#### Schinda cria enquete"
   ]
  },
  {
   "cell_type": "code",
   "execution_count": 3,
   "id": "751a65f4",
   "metadata": {},
   "outputs": [
    {
     "name": "stdout",
     "output_type": "stream",
     "text": [
      "<Response [200]>\n"
     ]
    }
   ],
   "source": [
    "print(requests.post('http://127.0.0.1:5000/users', data={'user': 'Schinda',\n",
    "                                                         'enquete': 'Carnava',\n",
    "                                                         'local': 'Guaratuba',\n",
    "                                                         'limite': '2021-12-20',\n",
    "                                                         'votos': \"['2022-02-19','2022-02-20','2022-02-21']\"}\n",
    "                   ))"
   ]
  },
  {
   "cell_type": "markdown",
   "id": "e2e741c9",
   "metadata": {},
   "source": [
    "## Consulta enquete"
   ]
  },
  {
   "cell_type": "markdown",
   "id": "89098be0",
   "metadata": {},
   "source": [
    "#### Thiago acessa enquete que não existe"
   ]
  },
  {
   "cell_type": "code",
   "execution_count": 4,
   "id": "b38a4475",
   "metadata": {},
   "outputs": [
    {
     "name": "stdout",
     "output_type": "stream",
     "text": [
      "404\n"
     ]
    }
   ],
   "source": [
    "print(requests.get('http://127.0.0.1:5000/users', params={'user': 'Thiago', 'enquete': 'asdf', 'request': 'get info'}).json())"
   ]
  },
  {
   "cell_type": "markdown",
   "id": "f3c5a74f",
   "metadata": {},
   "source": [
    "#### Schinda acessa enquete que não está cadastrado"
   ]
  },
  {
   "cell_type": "code",
   "execution_count": 5,
   "id": "8256da75",
   "metadata": {},
   "outputs": [
    {
     "name": "stdout",
     "output_type": "stream",
     "text": [
      "401\n"
     ]
    }
   ],
   "source": [
    "print(requests.get('http://127.0.0.1:5000/users', params={'user': 'Schinda', 'enquete': 'Bonde de Floripa', 'request': 'get info'}).json())"
   ]
  },
  {
   "cell_type": "markdown",
   "id": "4c7a5699",
   "metadata": {},
   "source": [
    "#### Thiago acessa enquete que está cadastrado"
   ]
  },
  {
   "cell_type": "code",
   "execution_count": 17,
   "id": "444c29df",
   "metadata": {},
   "outputs": [
    {
     "name": "stdout",
     "output_type": "stream",
     "text": [
      "{'request': {'limite': '2021-11-20', 'local': 'Florianopolis', 'status': 'Em andamento', 'votantes': ['Thiago', 'Schinda'], 'votos': {'2021-11-19': 5, '2021-11-20': 0, '2021-11-21': 0}}}\n"
     ]
    }
   ],
   "source": [
    "print(requests.get('http://127.0.0.1:5000/users', params={'user': 'Thiago', 'enquete': 'Bonde de Floripa', 'request': 'get info'}).json())"
   ]
  },
  {
   "cell_type": "markdown",
   "id": "aaa21fc8",
   "metadata": {},
   "source": [
    "## Cadastra voto em enquete"
   ]
  },
  {
   "cell_type": "markdown",
   "id": "aab17c8d",
   "metadata": {},
   "source": [
    "#### Schinda vota em enquete q não existe"
   ]
  },
  {
   "cell_type": "code",
   "execution_count": 11,
   "id": "9bd08878",
   "metadata": {},
   "outputs": [
    {
     "name": "stdout",
     "output_type": "stream",
     "text": [
      "404\n"
     ]
    }
   ],
   "source": [
    "print(requests.put('http://127.0.0.1:5000/users', params={'user': 'Schinda', \n",
    "                                                          'enquete': 'Bonde de Flo',\n",
    "                                                          'voto': '2021-11-19'}).json())"
   ]
  },
  {
   "cell_type": "markdown",
   "id": "1ce9d907",
   "metadata": {},
   "source": [
    "#### Schinda vota em enquete com data não permitida de voto"
   ]
  },
  {
   "cell_type": "code",
   "execution_count": 12,
   "id": "1b208f03",
   "metadata": {},
   "outputs": [
    {
     "name": "stdout",
     "output_type": "stream",
     "text": [
      "404\n"
     ]
    }
   ],
   "source": [
    "print(requests.put('http://127.0.0.1:5000/users', params={'user': 'Schinda', \n",
    "                                                          'enquete': 'Bonde de Floripa',\n",
    "                                                          'voto': '2020-01-01'}).json())"
   ]
  },
  {
   "cell_type": "markdown",
   "id": "fe52e066",
   "metadata": {},
   "source": [
    "#### Schinda vota em enquete certinho"
   ]
  },
  {
   "cell_type": "code",
   "execution_count": 15,
   "id": "2fd2d07b",
   "metadata": {},
   "outputs": [
    {
     "name": "stdout",
     "output_type": "stream",
     "text": [
      "200\n"
     ]
    }
   ],
   "source": [
    "print(requests.put('http://127.0.0.1:5000/users', params={'user': 'Schinda', \n",
    "                                                          'enquete': 'Bonde de Floripa',\n",
    "                                                          'voto': '2021-11-19'}).json())"
   ]
  },
  {
   "cell_type": "markdown",
   "id": "7e7337f5",
   "metadata": {},
   "source": [
    "## Consulta enquete"
   ]
  },
  {
   "cell_type": "markdown",
   "id": "7d9ca61e",
   "metadata": {},
   "source": [
    "#### Schinda acessa enquete que está cadastrado após voto"
   ]
  },
  {
   "cell_type": "code",
   "execution_count": 10,
   "id": "e12107fc",
   "metadata": {},
   "outputs": [
    {
     "name": "stdout",
     "output_type": "stream",
     "text": [
      "{'request': {'limite': '2021-11-20', 'local': 'Florianopolis', 'status': 'Em andamento', 'votantes': ['Thiago', 'Schinda'], 'votos': {'2021-11-19': 1, '2021-11-20': 0, '2021-11-21': 0}}}\n"
     ]
    }
   ],
   "source": [
    "print(requests.get('http://127.0.0.1:5000/users', params={'user': 'Schinda', 'enquete': 'Bonde de Floripa', 'request': 'get info'}).json())"
   ]
  },
  {
   "cell_type": "code",
   "execution_count": null,
   "id": "27d8f78f",
   "metadata": {},
   "outputs": [],
   "source": []
  }
 ],
 "metadata": {
  "kernelspec": {
   "display_name": "Python 3",
   "language": "python",
   "name": "python3"
  },
  "language_info": {
   "codemirror_mode": {
    "name": "ipython",
    "version": 3
   },
   "file_extension": ".py",
   "mimetype": "text/x-python",
   "name": "python",
   "nbconvert_exporter": "python",
   "pygments_lexer": "ipython3",
   "version": "3.9.5"
  }
 },
 "nbformat": 4,
 "nbformat_minor": 5
}
